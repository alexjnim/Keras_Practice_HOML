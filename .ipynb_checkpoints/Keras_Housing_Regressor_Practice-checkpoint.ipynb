{
 "cells": [
  {
   "cell_type": "code",
   "execution_count": 5,
   "metadata": {},
   "outputs": [],
   "source": [
    "import pandas as pd\n",
    "import numpy as np\n",
    "import tensorflow as tf\n",
    "from tensorflow import keras"
   ]
  },
  {
   "cell_type": "code",
   "execution_count": 2,
   "metadata": {},
   "outputs": [
    {
     "name": "stderr",
     "output_type": "stream",
     "text": [
      "Downloading Cal. housing from https://ndownloader.figshare.com/files/5976036 to /Users/alex.nim@ibm.com/scikit_learn_data\n"
     ]
    }
   ],
   "source": [
    "from sklearn.datasets import fetch_california_housing\n",
    "from sklearn.model_selection import train_test_split\n",
    "from sklearn.preprocessing import StandardScaler\n",
    "\n",
    "housing = fetch_california_housing()\n",
    "\n",
    "X_train_full, X_test, y_train_full, y_test = train_test_split(\n",
    "    housing.data, housing.target)\n",
    "X_train, X_valid, y_train, y_valid = train_test_split(\n",
    "    X_train_full, y_train_full)\n",
    "\n",
    "scaler = StandardScaler()\n",
    "X_train = scaler.fit_transform(X_train)\n",
    "X_valid = scaler.transform(X_valid)\n",
    "X_test = scaler.transform(X_test)"
   ]
  },
  {
   "cell_type": "code",
   "execution_count": 17,
   "metadata": {},
   "outputs": [
    {
     "name": "stdout",
     "output_type": "stream",
     "text": [
      "Train on 11610 samples, validate on 3870 samples\n",
      "Epoch 1/20\n",
      "11610/11610 [==============================] - 1s 44us/sample - loss: 0.8356 - accuracy: 0.0029 - val_loss: 0.7547 - val_accuracy: 0.0013\n",
      "Epoch 2/20\n",
      "11610/11610 [==============================] - 0s 28us/sample - loss: 0.5552 - accuracy: 0.0030 - val_loss: 0.5399 - val_accuracy: 0.0013\n",
      "Epoch 3/20\n",
      "11610/11610 [==============================] - 0s 30us/sample - loss: 0.6358 - accuracy: 0.0031 - val_loss: 0.4879 - val_accuracy: 0.0013\n",
      "Epoch 4/20\n",
      "11610/11610 [==============================] - 0s 27us/sample - loss: 0.4963 - accuracy: 0.0031 - val_loss: 0.5116 - val_accuracy: 0.0013\n",
      "Epoch 5/20\n",
      "11610/11610 [==============================] - 0s 26us/sample - loss: 0.4625 - accuracy: 0.0031 - val_loss: 0.4581 - val_accuracy: 0.0013\n",
      "Epoch 6/20\n",
      "11610/11610 [==============================] - 0s 27us/sample - loss: 0.4377 - accuracy: 0.0031 - val_loss: 0.4497 - val_accuracy: 0.0013\n",
      "Epoch 7/20\n",
      "11610/11610 [==============================] - 0s 26us/sample - loss: 0.4412 - accuracy: 0.0031 - val_loss: 0.4447 - val_accuracy: 0.0013\n",
      "Epoch 8/20\n",
      "11610/11610 [==============================] - 0s 26us/sample - loss: 0.4320 - accuracy: 0.0031 - val_loss: 0.5051 - val_accuracy: 0.0013\n",
      "Epoch 9/20\n",
      "11610/11610 [==============================] - 0s 28us/sample - loss: 0.4243 - accuracy: 0.0031 - val_loss: 0.4328 - val_accuracy: 0.0013\n",
      "Epoch 10/20\n",
      "11610/11610 [==============================] - 0s 28us/sample - loss: 0.4149 - accuracy: 0.0031 - val_loss: 0.4299 - val_accuracy: 0.0010\n",
      "Epoch 11/20\n",
      "11610/11610 [==============================] - 0s 29us/sample - loss: 0.4113 - accuracy: 0.0031 - val_loss: 0.4280 - val_accuracy: 0.0013\n",
      "Epoch 12/20\n",
      "11610/11610 [==============================] - 0s 29us/sample - loss: 0.4103 - accuracy: 0.0031 - val_loss: 0.4247 - val_accuracy: 0.0013\n",
      "Epoch 13/20\n",
      "11610/11610 [==============================] - 0s 27us/sample - loss: 0.4097 - accuracy: 0.0031 - val_loss: 0.4211 - val_accuracy: 0.0013\n",
      "Epoch 14/20\n",
      "11610/11610 [==============================] - 0s 28us/sample - loss: 0.4409 - accuracy: 0.0031 - val_loss: 0.4254 - val_accuracy: 0.0013\n",
      "Epoch 15/20\n",
      "11610/11610 [==============================] - 0s 28us/sample - loss: 0.4288 - accuracy: 0.0031 - val_loss: 0.4187 - val_accuracy: 0.0013\n",
      "Epoch 16/20\n",
      "11610/11610 [==============================] - 0s 30us/sample - loss: 0.3981 - accuracy: 0.0031 - val_loss: 0.4123 - val_accuracy: 0.0013\n",
      "Epoch 17/20\n",
      "11610/11610 [==============================] - 0s 29us/sample - loss: 0.3922 - accuracy: 0.0031 - val_loss: 0.4101 - val_accuracy: 0.0010\n",
      "Epoch 18/20\n",
      "11610/11610 [==============================] - 0s 25us/sample - loss: 0.3920 - accuracy: 0.0031 - val_loss: 0.4055 - val_accuracy: 0.0013\n",
      "Epoch 19/20\n",
      "11610/11610 [==============================] - 0s 28us/sample - loss: 0.3960 - accuracy: 0.0031 - val_loss: 0.4136 - val_accuracy: 0.0013\n",
      "Epoch 20/20\n",
      "11610/11610 [==============================] - 0s 27us/sample - loss: 0.3939 - accuracy: 0.0031 - val_loss: 0.3990 - val_accuracy: 0.0013\n"
     ]
    }
   ],
   "source": [
    "model = keras.models.Sequential([\n",
    "            keras.layers.Dense(30, activation=\"relu\", input_shape=X_train.shape[1:]),\n",
    "            keras.layers.Dense(1)\n",
    "                                ])\n",
    "\n",
    "\n",
    "model.compile(loss=\"mean_squared_error\", optimizer=\"sgd\", metrics=[\"accuracy\"])\n",
    "\n",
    "history = model.fit(X_train, y_train, epochs=20,\n",
    "                    validation_data=(X_valid, y_valid))"
   ]
  },
  {
   "cell_type": "code",
   "execution_count": 14,
   "metadata": {},
   "outputs": [
    {
     "data": {
      "image/png": "[encoded data removed]",
      "text/plain": [
       "<Figure size 576x360 with 1 Axes>"
      ]
     },
     "metadata": {
      "needs_background": "light"
     },
     "output_type": "display_data"
    }
   ],
   "source": [
    "import matplotlib.pyplot as plt\n",
    "\n",
    "pd.DataFrame(history.history).plot(figsize=(8, 5))\n",
    "plt.grid(True)\n",
    "plt.gca().set_ylim(0, 1) # set the vertical range to [0-1]\n",
    "plt.show()"
   ]
  },
  {
   "cell_type": "code",
   "execution_count": 18,
   "metadata": {},
   "outputs": [
    {
     "name": "stdout",
     "output_type": "stream",
     "text": [
      "5160/5160 [==============================] - 0s 15us/sample - loss: 0.3789 - accuracy: 0.0039\n"
     ]
    },
    {
     "data": {
      "text/plain": [
       "[0.3788645812014277, 0.003875969]"
      ]
     },
     "execution_count": 18,
     "metadata": {},
     "output_type": "execute_result"
    }
   ],
   "source": [
    "mse_test = model.evaluate(X_test, y_test)\n",
    "mse_test"
   ]
  },
  {
   "cell_type": "code",
   "execution_count": 19,
   "metadata": {},
   "outputs": [
    {
     "data": {
      "text/plain": [
       "array([[2.4227648],\n",
       "       [1.7881297],\n",
       "       [2.1827815]], dtype=float32)"
      ]
     },
     "execution_count": 19,
     "metadata": {},
     "output_type": "execute_result"
    }
   ],
   "source": [
    "X_new = X_test[:3] # pretend these are new instances\n",
    "y_pred = model.predict(X_new)\n",
    "y_pred"
   ]
  },
  {
   "cell_type": "code",
   "execution_count": null,
   "metadata": {},
   "outputs": [],
   "source": []
  }
 ],
 "metadata": {
  "kernelspec": {
   "display_name": "Python 3",
   "language": "python",
   "name": "python3"
  },
  "language_info": {
   "codemirror_mode": {
    "name": "ipython",
    "version": 3
   },
   "file_extension": ".py",
   "mimetype": "text/x-python",
   "name": "python",
   "nbconvert_exporter": "python",
   "pygments_lexer": "ipython3",
   "version": "3.7.4"
  }
 },
 "nbformat": 4,
 "nbformat_minor": 2
}
